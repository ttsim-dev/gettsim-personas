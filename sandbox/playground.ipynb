{
 "cells": [
  {
   "cell_type": "code",
   "execution_count": null,
   "id": "0",
   "metadata": {},
   "outputs": [],
   "source": [
    "from gettsim import InputData, MainTarget, PersonaTargetElements, main\n",
    "\n",
    "from gettsim_personas import get_personas\n",
    "\n",
    "jan_2025 = \"2025-01-01\"\n",
    "personas = get_personas(jan_2025)"
   ]
  },
  {
   "cell_type": "code",
   "execution_count": null,
   "id": "1",
   "metadata": {},
   "outputs": [],
   "source": [
    "persona = personas.einkommensteuer_sozialabgaben.couple_1_child"
   ]
  },
  {
   "cell_type": "code",
   "execution_count": null,
   "id": "2",
   "metadata": {},
   "outputs": [],
   "source": [
    "result = main(\n",
    "    main_target=MainTarget.results.df_with_nested_columns,\n",
    "    policy_date_str=jan_2025,\n",
    "    input_data=InputData.tree(persona.input_data(n_points=1)),\n",
    "    tt_targets=PersonaTargetElements(tree=persona.tt_targets_tree),\n",
    ")"
   ]
  },
  {
   "cell_type": "code",
   "execution_count": null,
   "id": "3",
   "metadata": {},
   "outputs": [],
   "source": [
    "persona.input_data_range"
   ]
  },
  {
   "cell_type": "code",
   "execution_count": null,
   "id": "4",
   "metadata": {},
   "outputs": [],
   "source": []
  }
 ],
 "metadata": {
  "language_info": {
   "codemirror_mode": {
    "name": "ipython",
    "version": 3
   },
   "file_extension": ".py",
   "mimetype": "text/x-python",
   "name": "python",
   "nbconvert_exporter": "python",
   "pygments_lexer": "ipython3"
  }
 },
 "nbformat": 4,
 "nbformat_minor": 5
}
